{
 "cells": [
  {
   "cell_type": "markdown",
   "id": "019d6e1c",
   "metadata": {},
   "source": [
    "### Importing Libraries"
   ]
  },
  {
   "cell_type": "code",
   "execution_count": 1,
   "id": "7366348d",
   "metadata": {},
   "outputs": [],
   "source": [
    "import pandas as pd\n",
    "import numpy as np\n",
    "import matplotlib.pyplot as plt\n",
    "import seaborn as sns"
   ]
  },
  {
   "cell_type": "markdown",
   "id": "d9ff467c",
   "metadata": {},
   "source": [
    "### Importing Dataset"
   ]
  },
  {
   "cell_type": "code",
   "execution_count": 2,
   "id": "319cf611",
   "metadata": {},
   "outputs": [],
   "source": [
    "df=pd.read_csv(r\"C:\\Users\\APJ\\Downloads\\cars_data.csv\")"
   ]
  },
  {
   "cell_type": "code",
   "execution_count": 3,
   "id": "6174beb2",
   "metadata": {},
   "outputs": [],
   "source": [
    "df.columns = df.columns.str.replace(' ', '')"
   ]
  },
  {
   "cell_type": "code",
   "execution_count": 4,
   "id": "438c97db",
   "metadata": {},
   "outputs": [
    {
     "data": {
      "text/html": [
       "<div>\n",
       "<style scoped>\n",
       "    .dataframe tbody tr th:only-of-type {\n",
       "        vertical-align: middle;\n",
       "    }\n",
       "\n",
       "    .dataframe tbody tr th {\n",
       "        vertical-align: top;\n",
       "    }\n",
       "\n",
       "    .dataframe thead th {\n",
       "        text-align: right;\n",
       "    }\n",
       "</style>\n",
       "<table border=\"1\" class=\"dataframe\">\n",
       "  <thead>\n",
       "    <tr style=\"text-align: right;\">\n",
       "      <th></th>\n",
       "      <th>Make</th>\n",
       "      <th>Model</th>\n",
       "      <th>Nickname</th>\n",
       "      <th>CarGender</th>\n",
       "      <th>BuyerGender</th>\n",
       "      <th>BuyerAge</th>\n",
       "      <th>Buzzword</th>\n",
       "      <th>Country</th>\n",
       "      <th>City</th>\n",
       "      <th>DealerLatitude</th>\n",
       "      <th>DealerLongitude</th>\n",
       "      <th>Color</th>\n",
       "      <th>NewCar</th>\n",
       "      <th>PurchaseDate</th>\n",
       "      <th>SalePrice</th>\n",
       "      <th>Discount</th>\n",
       "      <th>ResellPrice</th>\n",
       "      <th>5-yrDepreciation</th>\n",
       "      <th>TopSpeed</th>\n",
       "      <th>0-60Time</th>\n",
       "    </tr>\n",
       "  </thead>\n",
       "  <tbody>\n",
       "    <tr>\n",
       "      <th>0</th>\n",
       "      <td>Suzuki</td>\n",
       "      <td>Vitara</td>\n",
       "      <td>Philippine</td>\n",
       "      <td>Female</td>\n",
       "      <td>Female</td>\n",
       "      <td>51</td>\n",
       "      <td>User-friendly</td>\n",
       "      <td>Belgium</td>\n",
       "      <td>Antwerpen</td>\n",
       "      <td>51.247239</td>\n",
       "      <td>4.440346</td>\n",
       "      <td>Yellow</td>\n",
       "      <td>False</td>\n",
       "      <td>19/07/2009</td>\n",
       "      <td>54806.14</td>\n",
       "      <td>0.2467</td>\n",
       "      <td>33858.32</td>\n",
       "      <td>0.13</td>\n",
       "      <td>200.9</td>\n",
       "      <td>11.5</td>\n",
       "    </tr>\n",
       "    <tr>\n",
       "      <th>1</th>\n",
       "      <td>Honda</td>\n",
       "      <td>S2000</td>\n",
       "      <td>Henrik</td>\n",
       "      <td>Male</td>\n",
       "      <td>Male</td>\n",
       "      <td>30</td>\n",
       "      <td>analyzing</td>\n",
       "      <td>China</td>\n",
       "      <td>Jinhu</td>\n",
       "      <td>33.025433</td>\n",
       "      <td>119.020584</td>\n",
       "      <td>Crimson</td>\n",
       "      <td>False</td>\n",
       "      <td>26/10/2015</td>\n",
       "      <td>51826.30</td>\n",
       "      <td>0.3147</td>\n",
       "      <td>2989.28</td>\n",
       "      <td>0.02</td>\n",
       "      <td>158.5</td>\n",
       "      <td>8.8</td>\n",
       "    </tr>\n",
       "    <tr>\n",
       "      <th>2</th>\n",
       "      <td>BMW</td>\n",
       "      <td>Z4</td>\n",
       "      <td>Lebbie</td>\n",
       "      <td>Male</td>\n",
       "      <td>Female</td>\n",
       "      <td>54</td>\n",
       "      <td>software</td>\n",
       "      <td>China</td>\n",
       "      <td>Gemo</td>\n",
       "      <td>30.916207</td>\n",
       "      <td>121.677640</td>\n",
       "      <td>Khaki</td>\n",
       "      <td>False</td>\n",
       "      <td>28/03/2010</td>\n",
       "      <td>82929.14</td>\n",
       "      <td>0.5414</td>\n",
       "      <td>35049.16</td>\n",
       "      <td>0.24</td>\n",
       "      <td>149.5</td>\n",
       "      <td>14.4</td>\n",
       "    </tr>\n",
       "    <tr>\n",
       "      <th>3</th>\n",
       "      <td>Toyota</td>\n",
       "      <td>Tacoma</td>\n",
       "      <td>Jefferey</td>\n",
       "      <td>Female</td>\n",
       "      <td>Male</td>\n",
       "      <td>68</td>\n",
       "      <td>monitoring</td>\n",
       "      <td>Portugal</td>\n",
       "      <td>Queluz de Baixo</td>\n",
       "      <td>38.745168</td>\n",
       "      <td>-9.267087</td>\n",
       "      <td>Puce</td>\n",
       "      <td>False</td>\n",
       "      <td>07/05/2008</td>\n",
       "      <td>56928.66</td>\n",
       "      <td>0.0850</td>\n",
       "      <td>8236.15</td>\n",
       "      <td>0.20</td>\n",
       "      <td>153.3</td>\n",
       "      <td>11.5</td>\n",
       "    </tr>\n",
       "    <tr>\n",
       "      <th>4</th>\n",
       "      <td>Ford</td>\n",
       "      <td>Festiva</td>\n",
       "      <td>Glendon</td>\n",
       "      <td>Female</td>\n",
       "      <td>Male</td>\n",
       "      <td>70</td>\n",
       "      <td>Sharable</td>\n",
       "      <td>Latvia</td>\n",
       "      <td>Jaunpils</td>\n",
       "      <td>56.729980</td>\n",
       "      <td>23.016588</td>\n",
       "      <td>Yellow</td>\n",
       "      <td>False</td>\n",
       "      <td>01/06/2008</td>\n",
       "      <td>77201.26</td>\n",
       "      <td>0.1642</td>\n",
       "      <td>32765.76</td>\n",
       "      <td>0.18</td>\n",
       "      <td>122.0</td>\n",
       "      <td>14.9</td>\n",
       "    </tr>\n",
       "  </tbody>\n",
       "</table>\n",
       "</div>"
      ],
      "text/plain": [
       "     Make    Model    Nickname CarGender BuyerGender  BuyerAge       Buzzword  \\\n",
       "0  Suzuki   Vitara  Philippine    Female      Female        51  User-friendly   \n",
       "1   Honda    S2000      Henrik      Male        Male        30      analyzing   \n",
       "2     BMW       Z4      Lebbie      Male      Female        54       software   \n",
       "3  Toyota   Tacoma    Jefferey    Female        Male        68     monitoring   \n",
       "4    Ford  Festiva     Glendon    Female        Male        70       Sharable   \n",
       "\n",
       "    Country             City  DealerLatitude  DealerLongitude    Color  \\\n",
       "0   Belgium        Antwerpen       51.247239         4.440346   Yellow   \n",
       "1     China            Jinhu       33.025433       119.020584  Crimson   \n",
       "2     China             Gemo       30.916207       121.677640    Khaki   \n",
       "3  Portugal  Queluz de Baixo       38.745168        -9.267087     Puce   \n",
       "4    Latvia         Jaunpils       56.729980        23.016588   Yellow   \n",
       "\n",
       "   NewCar PurchaseDate  SalePrice  Discount  ResellPrice  5-yrDepreciation  \\\n",
       "0   False   19/07/2009   54806.14    0.2467     33858.32              0.13   \n",
       "1   False   26/10/2015   51826.30    0.3147      2989.28              0.02   \n",
       "2   False   28/03/2010   82929.14    0.5414     35049.16              0.24   \n",
       "3   False   07/05/2008   56928.66    0.0850      8236.15              0.20   \n",
       "4   False   01/06/2008   77201.26    0.1642     32765.76              0.18   \n",
       "\n",
       "   TopSpeed  0-60Time  \n",
       "0     200.9      11.5  \n",
       "1     158.5       8.8  \n",
       "2     149.5      14.4  \n",
       "3     153.3      11.5  \n",
       "4     122.0      14.9  "
      ]
     },
     "execution_count": 4,
     "metadata": {},
     "output_type": "execute_result"
    }
   ],
   "source": [
    "df.head()"
   ]
  },
  {
   "cell_type": "code",
   "execution_count": 5,
   "id": "8c857e8d",
   "metadata": {
    "scrolled": true
   },
   "outputs": [
    {
     "data": {
      "text/plain": [
       "Index(['Make', 'Model', 'Nickname', 'CarGender', 'BuyerGender', 'BuyerAge',\n",
       "       'Buzzword', 'Country', 'City', 'DealerLatitude', 'DealerLongitude',\n",
       "       'Color', 'NewCar', 'PurchaseDate', 'SalePrice', 'Discount',\n",
       "       'ResellPrice', '5-yrDepreciation', 'TopSpeed', '0-60Time'],\n",
       "      dtype='object')"
      ]
     },
     "execution_count": 5,
     "metadata": {},
     "output_type": "execute_result"
    }
   ],
   "source": [
    "df.columns"
   ]
  },
  {
   "cell_type": "markdown",
   "id": "cd29c704",
   "metadata": {},
   "source": [
    "### Checking for Null Values in the dataset"
   ]
  },
  {
   "cell_type": "code",
   "execution_count": 6,
   "id": "9ca8ca50",
   "metadata": {},
   "outputs": [
    {
     "data": {
      "text/plain": [
       "Make                0\n",
       "Model               0\n",
       "Nickname            0\n",
       "CarGender           0\n",
       "BuyerGender         0\n",
       "BuyerAge            0\n",
       "Buzzword            0\n",
       "Country             0\n",
       "City                0\n",
       "DealerLatitude      0\n",
       "DealerLongitude     0\n",
       "Color               0\n",
       "NewCar              0\n",
       "PurchaseDate        0\n",
       "SalePrice           0\n",
       "Discount            0\n",
       "ResellPrice         0\n",
       "5-yrDepreciation    0\n",
       "TopSpeed            0\n",
       "0-60Time            0\n",
       "dtype: int64"
      ]
     },
     "execution_count": 6,
     "metadata": {},
     "output_type": "execute_result"
    }
   ],
   "source": [
    "df.isnull().sum()"
   ]
  },
  {
   "cell_type": "markdown",
   "id": "3a519764",
   "metadata": {},
   "source": [
    "It is clear that there is no null values present in the dataset"
   ]
  },
  {
   "cell_type": "markdown",
   "id": "2fcbddd8",
   "metadata": {},
   "source": [
    "### Genderwise Car Buyer Count "
   ]
  },
  {
   "cell_type": "code",
   "execution_count": 7,
   "id": "7d3ccbd6",
   "metadata": {},
   "outputs": [
    {
     "data": {
      "text/plain": [
       "<AxesSubplot:xlabel='BuyerGender', ylabel='count'>"
      ]
     },
     "execution_count": 7,
     "metadata": {},
     "output_type": "execute_result"
    },
    {
     "data": {
      "image/png": "[encoded data removed]",
      "text/plain": [
       "<Figure size 432x288 with 1 Axes>"
      ]
     },
     "metadata": {
      "needs_background": "light"
     },
     "output_type": "display_data"
    }
   ],
   "source": [
    "sns.countplot(x='BuyerGender',data=df )"
   ]
  },
  {
   "cell_type": "markdown",
   "id": "3f3202c0",
   "metadata": {},
   "source": [
    "The number of male and female car buyers are almost equal in this datset"
   ]
  },
  {
   "cell_type": "markdown",
   "id": "7d03e733",
   "metadata": {},
   "source": [
    "### Top 5 Cars based on Sales Price"
   ]
  },
  {
   "cell_type": "code",
   "execution_count": 8,
   "id": "148864bf",
   "metadata": {},
   "outputs": [],
   "source": [
    "d1=df.nlargest(5,['SalePrice'])\n"
   ]
  },
  {
   "cell_type": "code",
   "execution_count": 9,
   "id": "c29fca14",
   "metadata": {},
   "outputs": [],
   "source": [
    "d1['Car']=d1[['Make','Model']].agg(' '.join,axis=1)"
   ]
  },
  {
   "cell_type": "code",
   "execution_count": 18,
   "id": "b2243f22",
   "metadata": {
    "scrolled": true
   },
   "outputs": [],
   "source": [
    "s1=d1[['Car','SalePrice']]"
   ]
  },
  {
   "cell_type": "code",
   "execution_count": 83,
   "id": "41c72f84",
   "metadata": {},
   "outputs": [
    {
     "name": "stdout",
     "output_type": "stream",
     "text": [
      "Collecting tabulate\n",
      "  Downloading tabulate-0.8.9-py3-none-any.whl (25 kB)\n",
      "Installing collected packages: tabulate\n",
      "Successfully installed tabulate-0.8.9\n",
      "Note: you may need to restart the kernel to use updated packages.\n"
     ]
    }
   ],
   "source": [
    "pip install tabulate\n"
   ]
  },
  {
   "cell_type": "code",
   "execution_count": 16,
   "id": "064577b3",
   "metadata": {
    "scrolled": true
   },
   "outputs": [
    {
     "name": "stdout",
     "output_type": "stream",
     "text": [
      "|      | Car                  |   SalePrice |\n",
      "|-----:|:---------------------|------------:|\n",
      "| 5984 | Volkswagen Jetta III |     99997.6 |\n",
      "| 1270 | Audi A6              |     99991.9 |\n",
      "| 3460 | Lexus LX             |     99983.4 |\n",
      "| 9032 | Mazda MX-6           |     99978.2 |\n",
      "|  302 | Lexus ES             |     99973.4 |\n"
     ]
    }
   ],
   "source": [
    "print(s1.to_markdown())"
   ]
  },
  {
   "cell_type": "markdown",
   "id": "2f9e9167",
   "metadata": {},
   "source": [
    "\n",
    "| Car                  |   SalePrice |\n",
    "|:---------------------|------------:|\n",
    "| Volkswagen Jetta III |     99997.6 |\n",
    "| Audi A6              |     99991.9 |\n",
    "| Lexus LX             |     99983.4 |\n",
    "| Mazda MX-6           |     99978.2 |\n",
    "| Lexus ES             |     99973.4 |"
   ]
  },
  {
   "cell_type": "markdown",
   "id": "383e9fd8",
   "metadata": {},
   "source": [
    "Volkwagen Jetta III, Audi A6, Lexus LX, Mazda MX-6, Lexus ES are the most expensive cars in the dataset"
   ]
  },
  {
   "cell_type": "markdown",
   "id": "80d425a2",
   "metadata": {},
   "source": [
    "### Worst 5 Cars based on Resale Value"
   ]
  },
  {
   "cell_type": "code",
   "execution_count": 47,
   "id": "1f980822",
   "metadata": {},
   "outputs": [],
   "source": [
    "d5=df.nsmallest(5,['ResellPrice'])"
   ]
  },
  {
   "cell_type": "code",
   "execution_count": 50,
   "id": "7a99e12e",
   "metadata": {},
   "outputs": [],
   "source": [
    "d5['Car'] = d5[['Make','Model']].agg(' '.join, axis=1)\n"
   ]
  },
  {
   "cell_type": "code",
   "execution_count": 54,
   "id": "1e328808",
   "metadata": {},
   "outputs": [],
   "source": [
    "s5=d5[['Car','ResellPrice']]"
   ]
  },
  {
   "cell_type": "code",
   "execution_count": 56,
   "id": "8b3554f3",
   "metadata": {},
   "outputs": [
    {
     "name": "stdout",
     "output_type": "stream",
     "text": [
      "|      | Car               |   ResellPrice |\n",
      "|-----:|:------------------|--------------:|\n",
      "| 2446 | Chevrolet 1500    |       2000.84 |\n",
      "| 4933 | GMC Savana 1500   |       2005.44 |\n",
      "|  566 | Jaguar XF         |       2014.09 |\n",
      "| 2538 | Mitsubishi 3000GT |       2017.24 |\n",
      "| 5869 | Infiniti G37      |       2017.83 |\n"
     ]
    }
   ],
   "source": [
    "print(s5.to_markdown())"
   ]
  },
  {
   "cell_type": "markdown",
   "id": "762e7920",
   "metadata": {},
   "source": [
    "| Car               |   ResellPrice |\n",
    "|:------------------|--------------:|\n",
    "| Chevrolet 1500    |       2000.84 |\n",
    "| GMC Savana 1500   |       2005.44 |\n",
    "| Jaguar XF         |       2014.09 |\n",
    "| Mitsubishi 3000GT |       2017.24 |\n",
    "| Infiniti G37      |       2017.83 |"
   ]
  },
  {
   "cell_type": "markdown",
   "id": "223e7aa0",
   "metadata": {},
   "source": [
    "Chevrolet 1500, GMC Savana 1500, Jaguar XF, Mistubishi 3000GT , Infiniti G37 "
   ]
  }
 ],
 "metadata": {
  "kernelspec": {
   "display_name": "Python 3 (ipykernel)",
   "language": "python",
   "name": "python3"
  },
  "language_info": {
   "codemirror_mode": {
    "name": "ipython",
    "version": 3
   },
   "file_extension": ".py",
   "mimetype": "text/x-python",
   "name": "python",
   "nbconvert_exporter": "python",
   "pygments_lexer": "ipython3",
   "version": "3.9.7"
  }
 },
 "nbformat": 4,
 "nbformat_minor": 5
}
